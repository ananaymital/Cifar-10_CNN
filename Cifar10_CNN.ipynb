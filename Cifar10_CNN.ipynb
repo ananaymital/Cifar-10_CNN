{
  "nbformat": 4,
  "nbformat_minor": 0,
  "metadata": {
    "colab": {
      "name": "Cifar10_CNN.ipynb",
      "provenance": [],
      "collapsed_sections": [],
      "mount_file_id": "1nOm3lhhxXdhNAv05DabRf3xLMyzJ3UkF",
      "authorship_tag": "ABX9TyOiT4C2f9XuHY6+NumCRNBP",
      "include_colab_link": true
    },
    "kernelspec": {
      "name": "python3",
      "display_name": "Python 3"
    },
    "accelerator": "TPU"
  },
  "cells": [
    {
      "cell_type": "markdown",
      "metadata": {
        "id": "view-in-github",
        "colab_type": "text"
      },
      "source": [
        "<a href=\"https://colab.research.google.com/github/ananaymital/Cifar-10_CNN/blob/master/Cifar10_CNN.ipynb\" target=\"_parent\"><img src=\"https://colab.research.google.com/assets/colab-badge.svg\" alt=\"Open In Colab\"/></a>"
      ]
    },
    {
      "cell_type": "code",
      "metadata": {
        "id": "b-t82xu7KWCt",
        "colab_type": "code",
        "colab": {}
      },
      "source": [
        "import pandas as pd\n",
        "import pickle\n",
        "import matplotlib.pyplot as plt\n",
        "from PIL import Image\n",
        "import numpy as np\n"
      ],
      "execution_count": 0,
      "outputs": []
    },
    {
      "cell_type": "markdown",
      "metadata": {
        "id": "hziI5iTbp5n0",
        "colab_type": "text"
      },
      "source": [
        "Unpickling training and testing data"
      ]
    },
    {
      "cell_type": "code",
      "metadata": {
        "id": "yhLRFvyrNXSZ",
        "colab_type": "code",
        "colab": {}
      },
      "source": [
        "def unpickle(file):\n",
        "    with open(file, 'rb') as fo:\n",
        "        dict = pickle.load(fo, encoding='bytes')\n",
        "    return dict\n",
        "\n",
        "def reshape_rgb_values(x, h=32, w=32):\n",
        "    return np.reshape([[x[i], x[i+1024], x[i+2048]] for i in range(x.shape[0]//3)], (h, w, 3)).tolist()\n",
        "\n",
        "def create_image(x):\n",
        "    w, h = 32, 32\n",
        "    np_img = reshape_rgb_values(x, h, w)\n",
        "    img = Image.fromarray(np_img, 'RGB')\n",
        "    display(img)\n",
        "    return np_img"
      ],
      "execution_count": 0,
      "outputs": []
    },
    {
      "cell_type": "markdown",
      "metadata": {
        "id": "Qu9QHbsJqD6e",
        "colab_type": "text"
      },
      "source": [
        "Image classes"
      ]
    },
    {
      "cell_type": "code",
      "metadata": {
        "id": "9v1Mhfl-dqqv",
        "colab_type": "code",
        "outputId": "3d57d937-ef1d-4f4c-ae3d-9eb6ad351962",
        "colab": {
          "base_uri": "https://localhost:8080/",
          "height": 221
        }
      },
      "source": [
        "meta_data_filename = \"/content/drive/My Drive/ComputerVision/Image classification/data/cifar-10-batches-py/batches.meta\"\n",
        "\n",
        "meta_data = unpickle(meta_data_filename)\n",
        "meta_data"
      ],
      "execution_count": 3,
      "outputs": [
        {
          "output_type": "execute_result",
          "data": {
            "text/plain": [
              "{b'label_names': [b'airplane',\n",
              "  b'automobile',\n",
              "  b'bird',\n",
              "  b'cat',\n",
              "  b'deer',\n",
              "  b'dog',\n",
              "  b'frog',\n",
              "  b'horse',\n",
              "  b'ship',\n",
              "  b'truck'],\n",
              " b'num_cases_per_batch': 10000,\n",
              " b'num_vis': 3072}"
            ]
          },
          "metadata": {
            "tags": []
          },
          "execution_count": 3
        }
      ]
    },
    {
      "cell_type": "markdown",
      "metadata": {
        "id": "zsPLsXSWqcph",
        "colab_type": "text"
      },
      "source": [
        "Reading Train files"
      ]
    },
    {
      "cell_type": "code",
      "metadata": {
        "id": "juas3qEvNZAz",
        "colab_type": "code",
        "outputId": "92028260-795a-442c-8c51-cc79d2c2c271",
        "colab": {
          "base_uri": "https://localhost:8080/",
          "height": 289
        }
      },
      "source": [
        "def read_files(filename=None):\n",
        "    final_df = pd.DataFrame()\n",
        "    if filename == None:\n",
        "        for i in range(1, 6):\n",
        "            in_filename = \"/content/drive/My Drive/ComputerVision/Image classification/data/cifar-10-batches-py/data_batch_{}\".format(i)\n",
        "\n",
        "            data = unpickle(in_filename)\n",
        "            df = pd.DataFrame()\n",
        "            df[\"data\"] = pd.Series(x for x in data.get(b\"data\"))\n",
        "            df[\"labels\"] = data.get(b\"labels\")\n",
        "\n",
        "            labels = [i.decode(\"utf-8\")  for i in meta_data.get(b\"label_names\")]\n",
        "            df[\"label_names\"]=  df.labels.map(dict(enumerate(labels)))\n",
        "\n",
        "            df.data = df.data.apply(reshape_rgb_values)\n",
        "\n",
        "            final_df = pd.concat([final_df, df])\n",
        "            print(\"loaded {}\".format(in_filename))\n",
        "        return final_df\n",
        "    else:\n",
        "        data = unpickle(filename)\n",
        "        df = pd.DataFrame()\n",
        "        df[\"data\"] = pd.Series(x for x in data.get(b\"data\"))\n",
        "        df[\"labels\"] = data.get(b\"labels\")\n",
        "\n",
        "        labels = [i.decode(\"utf-8\")  for i in meta_data.get(b\"label_names\")]\n",
        "        df[\"label_names\"]=  df.labels.map(dict(enumerate(labels)))\n",
        "\n",
        "        df.data = df.data.apply(reshape_rgb_values)\n",
        "        return df\n",
        "\n",
        "train = read_files()\n",
        "train.head()"
      ],
      "execution_count": 4,
      "outputs": [
        {
          "output_type": "stream",
          "text": [
            "loaded /content/drive/My Drive/ComputerVision/Image classification/data/cifar-10-batches-py/data_batch_1\n",
            "loaded /content/drive/My Drive/ComputerVision/Image classification/data/cifar-10-batches-py/data_batch_2\n",
            "loaded /content/drive/My Drive/ComputerVision/Image classification/data/cifar-10-batches-py/data_batch_3\n",
            "loaded /content/drive/My Drive/ComputerVision/Image classification/data/cifar-10-batches-py/data_batch_4\n",
            "loaded /content/drive/My Drive/ComputerVision/Image classification/data/cifar-10-batches-py/data_batch_5\n"
          ],
          "name": "stdout"
        },
        {
          "output_type": "execute_result",
          "data": {
            "text/html": [
              "<div>\n",
              "<style scoped>\n",
              "    .dataframe tbody tr th:only-of-type {\n",
              "        vertical-align: middle;\n",
              "    }\n",
              "\n",
              "    .dataframe tbody tr th {\n",
              "        vertical-align: top;\n",
              "    }\n",
              "\n",
              "    .dataframe thead th {\n",
              "        text-align: right;\n",
              "    }\n",
              "</style>\n",
              "<table border=\"1\" class=\"dataframe\">\n",
              "  <thead>\n",
              "    <tr style=\"text-align: right;\">\n",
              "      <th></th>\n",
              "      <th>data</th>\n",
              "      <th>labels</th>\n",
              "      <th>label_names</th>\n",
              "    </tr>\n",
              "  </thead>\n",
              "  <tbody>\n",
              "    <tr>\n",
              "      <th>0</th>\n",
              "      <td>[[[59, 62, 63], [43, 46, 45], [50, 48, 43], [6...</td>\n",
              "      <td>6</td>\n",
              "      <td>frog</td>\n",
              "    </tr>\n",
              "    <tr>\n",
              "      <th>1</th>\n",
              "      <td>[[[154, 177, 187], [126, 137, 136], [105, 104,...</td>\n",
              "      <td>9</td>\n",
              "      <td>truck</td>\n",
              "    </tr>\n",
              "    <tr>\n",
              "      <th>2</th>\n",
              "      <td>[[[255, 255, 255], [253, 253, 253], [253, 253,...</td>\n",
              "      <td>9</td>\n",
              "      <td>truck</td>\n",
              "    </tr>\n",
              "    <tr>\n",
              "      <th>3</th>\n",
              "      <td>[[[28, 25, 10], [37, 34, 19], [38, 35, 20], [4...</td>\n",
              "      <td>4</td>\n",
              "      <td>deer</td>\n",
              "    </tr>\n",
              "    <tr>\n",
              "      <th>4</th>\n",
              "      <td>[[[170, 180, 198], [168, 178, 196], [177, 185,...</td>\n",
              "      <td>1</td>\n",
              "      <td>automobile</td>\n",
              "    </tr>\n",
              "  </tbody>\n",
              "</table>\n",
              "</div>"
            ],
            "text/plain": [
              "                                                data  labels label_names\n",
              "0  [[[59, 62, 63], [43, 46, 45], [50, 48, 43], [6...       6        frog\n",
              "1  [[[154, 177, 187], [126, 137, 136], [105, 104,...       9       truck\n",
              "2  [[[255, 255, 255], [253, 253, 253], [253, 253,...       9       truck\n",
              "3  [[[28, 25, 10], [37, 34, 19], [38, 35, 20], [4...       4        deer\n",
              "4  [[[170, 180, 198], [168, 178, 196], [177, 185,...       1  automobile"
            ]
          },
          "metadata": {
            "tags": []
          },
          "execution_count": 4
        }
      ]
    },
    {
      "cell_type": "markdown",
      "metadata": {
        "id": "2_I47F6QqkQW",
        "colab_type": "text"
      },
      "source": [
        "Reading Test file"
      ]
    },
    {
      "cell_type": "code",
      "metadata": {
        "id": "AP_n6py_kGcg",
        "colab_type": "code",
        "colab": {}
      },
      "source": [
        "test = read_files(\"/content/drive/My Drive/ComputerVision/Image classification/data/cifar-10-batches-py/test_batch\")"
      ],
      "execution_count": 0,
      "outputs": []
    },
    {
      "cell_type": "markdown",
      "metadata": {
        "id": "_tzS_wbLq0uv",
        "colab_type": "text"
      },
      "source": [
        "Normalizing pixels and splitting into X_train, y_train, X_test, y_test  "
      ]
    },
    {
      "cell_type": "code",
      "metadata": {
        "id": "kGMeEZC1FvAl",
        "colab_type": "code",
        "outputId": "eb6c36b9-c2b5-4964-8dfa-03d0d8de973f",
        "colab": {
          "base_uri": "https://localhost:8080/",
          "height": 34
        }
      },
      "source": [
        "y_train = train.labels.astype(\"float32\")\n",
        "y_test = test.labels.astype(\"float32\")\n",
        "\n",
        "X_train = np.asarray(train.data.apply(lambda x: np.asarray(x)/255.0).values.tolist())\n",
        "X_test = np.asarray(test.data.apply(lambda x: np.asarray(x)/255.0).values.tolist())\n",
        "\n",
        "X_train.shape, y_train.shape, X_test.shape, y_test.shape"
      ],
      "execution_count": 6,
      "outputs": [
        {
          "output_type": "execute_result",
          "data": {
            "text/plain": [
              "((50000, 32, 32, 3), (50000,), (10000, 32, 32, 3), (10000,))"
            ]
          },
          "metadata": {
            "tags": []
          },
          "execution_count": 6
        }
      ]
    },
    {
      "cell_type": "code",
      "metadata": {
        "id": "rX4SM9nOlBC-",
        "colab_type": "code",
        "colab": {}
      },
      "source": [
        "from tensorflow.nn import fractional_max_pool\n",
        "\n",
        "from tensorflow.keras.models import Sequential\n",
        "from tensorflow.keras.layers import Dense, Dropout, Activation, Flatten, Lambda\n",
        "from tensorflow.keras.layers import Conv2D, MaxPooling2D, BatchNormalization\n",
        "from tensorflow.keras.losses import SparseCategoricalCrossentropy"
      ],
      "execution_count": 0,
      "outputs": []
    },
    {
      "cell_type": "markdown",
      "metadata": {
        "id": "dOcK4e6QrF5p",
        "colab_type": "text"
      },
      "source": [
        "Building CNN model"
      ]
    },
    {
      "cell_type": "code",
      "metadata": {
        "id": "ME0G2bHLk1De",
        "colab_type": "code",
        "colab": {}
      },
      "source": [
        "def frac_max_pool(x):\n",
        "    return fractional_max_pool(x,2**0.5)[0]\n",
        "    \n",
        "def build_cnn():\n",
        "    model = Sequential()\n",
        "\n",
        "    model.add(Conv2D(32, kernel_size=3, padding=\"same\"))\n",
        "    model.add(Lambda(frac_max_pool))\n",
        "    model.add(Activation(\"relu\"))\n",
        "    model.add(BatchNormalization())\n",
        "\n",
        "    model.add(Conv2D(32, kernel_size=3, padding=\"same\"))\n",
        "    model.add(Lambda(frac_max_pool))\n",
        "    model.add(Activation(\"relu\"))\n",
        "    model.add(BatchNormalization())\n",
        "\n",
        "    model.add(Conv2D(64, kernel_size=3, padding=\"same\"))\n",
        "    model.add(Lambda(frac_max_pool))\n",
        "    model.add(Activation(\"relu\"))\n",
        "    model.add(BatchNormalization())\n",
        "\n",
        "    model.add(Conv2D(64, kernel_size=3, padding=\"same\"))\n",
        "    model.add(Lambda(frac_max_pool))\n",
        "    model.add(Activation(\"relu\"))\n",
        "    model.add(BatchNormalization())\n",
        "\n",
        "    model.add(Flatten())\n",
        "    \n",
        "    model.add(Dense(512, activation=\"relu\"))\n",
        "    model.add(Dropout(0.2))\n",
        "    model.add(BatchNormalization())\n",
        "    \n",
        "    model.add(Dense(10, activation=\"relu\"))\n",
        "\n",
        "    model.compile(optimizer='adam',\n",
        "              loss=SparseCategoricalCrossentropy(from_logits=True),\n",
        "              metrics=['accuracy'])\n",
        "    return model\n"
      ],
      "execution_count": 0,
      "outputs": []
    },
    {
      "cell_type": "markdown",
      "metadata": {
        "id": "R0mNx8HSrmZ8",
        "colab_type": "text"
      },
      "source": [
        "Deleting train model to reduce memory consumption"
      ]
    },
    {
      "cell_type": "code",
      "metadata": {
        "id": "HzNwSkKbw4rD",
        "colab_type": "code",
        "colab": {}
      },
      "source": [
        "try:\n",
        "    del train\n",
        "    # del test\n",
        "except:\n",
        "    pass"
      ],
      "execution_count": 0,
      "outputs": []
    },
    {
      "cell_type": "markdown",
      "metadata": {
        "id": "SA-GRzGEsT_U",
        "colab_type": "text"
      },
      "source": [
        "Fitting on X_train & y_train on 25 epochs and validating on X_test & y_test"
      ]
    },
    {
      "cell_type": "code",
      "metadata": {
        "id": "TedDkbYspNHJ",
        "colab_type": "code",
        "outputId": "baa09719-5fc3-4a6b-f61d-44baf4c1461a",
        "colab": {
          "base_uri": "https://localhost:8080/",
          "height": 867
        }
      },
      "source": [
        "model = build_cnn()\n",
        "history = model.fit(x=X_train, y=y_train, epochs=25, validation_data=(X_test, y_test))"
      ],
      "execution_count": 11,
      "outputs": [
        {
          "output_type": "stream",
          "text": [
            "Epoch 1/25\n",
            "1563/1563 [==============================] - 207s 132ms/step - loss: 1.5564 - accuracy: 0.4634 - val_loss: 1.4027 - val_accuracy: 0.5145\n",
            "Epoch 2/25\n",
            "1563/1563 [==============================] - 204s 131ms/step - loss: 1.1244 - accuracy: 0.6057 - val_loss: 1.2103 - val_accuracy: 0.5731\n",
            "Epoch 3/25\n",
            "1563/1563 [==============================] - 204s 131ms/step - loss: 0.9651 - accuracy: 0.6615 - val_loss: 1.2567 - val_accuracy: 0.5684\n",
            "Epoch 4/25\n",
            "1563/1563 [==============================] - 210s 134ms/step - loss: 0.8802 - accuracy: 0.6917 - val_loss: 1.0354 - val_accuracy: 0.6473\n",
            "Epoch 5/25\n",
            "1563/1563 [==============================] - 207s 132ms/step - loss: 0.8110 - accuracy: 0.7154 - val_loss: 0.8863 - val_accuracy: 0.6929\n",
            "Epoch 6/25\n",
            "1563/1563 [==============================] - 206s 132ms/step - loss: 0.7766 - accuracy: 0.7299 - val_loss: 0.9676 - val_accuracy: 0.6724\n",
            "Epoch 7/25\n",
            "1563/1563 [==============================] - 208s 133ms/step - loss: 0.7329 - accuracy: 0.7424 - val_loss: 0.8365 - val_accuracy: 0.7103\n",
            "Epoch 8/25\n",
            "1563/1563 [==============================] - 205s 131ms/step - loss: 0.7045 - accuracy: 0.7559 - val_loss: 0.7681 - val_accuracy: 0.7338\n",
            "Epoch 9/25\n",
            "1563/1563 [==============================] - 204s 131ms/step - loss: 0.6807 - accuracy: 0.7626 - val_loss: 0.8780 - val_accuracy: 0.6924\n",
            "Epoch 10/25\n",
            "1563/1563 [==============================] - 207s 133ms/step - loss: 0.6437 - accuracy: 0.7751 - val_loss: 0.7662 - val_accuracy: 0.7407\n",
            "Epoch 11/25\n",
            "1563/1563 [==============================] - 205s 131ms/step - loss: 0.6347 - accuracy: 0.7797 - val_loss: 0.7225 - val_accuracy: 0.7556\n",
            "Epoch 12/25\n",
            "1563/1563 [==============================] - 206s 132ms/step - loss: 0.6198 - accuracy: 0.7847 - val_loss: 0.8652 - val_accuracy: 0.7153\n",
            "Epoch 13/25\n",
            "1563/1563 [==============================] - 207s 133ms/step - loss: 0.5987 - accuracy: 0.7911 - val_loss: 0.7328 - val_accuracy: 0.7500\n",
            "Epoch 14/25\n",
            "1563/1563 [==============================] - 204s 130ms/step - loss: 0.5865 - accuracy: 0.7945 - val_loss: 0.7065 - val_accuracy: 0.7604\n",
            "Epoch 15/25\n",
            "1563/1563 [==============================] - 203s 130ms/step - loss: 0.5852 - accuracy: 0.7976 - val_loss: 0.7273 - val_accuracy: 0.7547\n",
            "Epoch 16/25\n",
            "1563/1563 [==============================] - 207s 132ms/step - loss: 0.5729 - accuracy: 0.8002 - val_loss: 0.6799 - val_accuracy: 0.7648\n",
            "Epoch 17/25\n",
            "1563/1563 [==============================] - 203s 130ms/step - loss: 0.5548 - accuracy: 0.8075 - val_loss: 0.6993 - val_accuracy: 0.7623\n",
            "Epoch 18/25\n",
            "1563/1563 [==============================] - 200s 128ms/step - loss: 0.5430 - accuracy: 0.8106 - val_loss: 0.7365 - val_accuracy: 0.7460\n",
            "Epoch 19/25\n",
            "1563/1563 [==============================] - 205s 131ms/step - loss: 0.5359 - accuracy: 0.8141 - val_loss: 0.8655 - val_accuracy: 0.7253\n",
            "Epoch 20/25\n",
            "1563/1563 [==============================] - 204s 130ms/step - loss: 0.5311 - accuracy: 0.8153 - val_loss: 0.7863 - val_accuracy: 0.7346\n",
            "Epoch 21/25\n",
            "1563/1563 [==============================] - 203s 130ms/step - loss: 0.5200 - accuracy: 0.8201 - val_loss: 0.8256 - val_accuracy: 0.7318\n",
            "Epoch 22/25\n",
            "1563/1563 [==============================] - 206s 132ms/step - loss: 0.5063 - accuracy: 0.8237 - val_loss: 0.7319 - val_accuracy: 0.7521\n",
            "Epoch 23/25\n",
            "1563/1563 [==============================] - 201s 128ms/step - loss: 0.5066 - accuracy: 0.8229 - val_loss: 0.6768 - val_accuracy: 0.7727\n",
            "Epoch 24/25\n",
            "1563/1563 [==============================] - 209s 133ms/step - loss: 0.5014 - accuracy: 0.8253 - val_loss: 0.7203 - val_accuracy: 0.7606\n",
            "Epoch 25/25\n",
            "1563/1563 [==============================] - 211s 135ms/step - loss: 0.4960 - accuracy: 0.8271 - val_loss: 0.6832 - val_accuracy: 0.7721\n"
          ],
          "name": "stdout"
        }
      ]
    },
    {
      "cell_type": "code",
      "metadata": {
        "id": "QseO74WTyyaM",
        "colab_type": "code",
        "outputId": "c960dc75-725c-4248-a595-18c897bee328",
        "colab": {
          "base_uri": "https://localhost:8080/",
          "height": 867
        }
      },
      "source": [
        "model.summary()"
      ],
      "execution_count": 12,
      "outputs": [
        {
          "output_type": "stream",
          "text": [
            "Model: \"sequential\"\n",
            "_________________________________________________________________\n",
            "Layer (type)                 Output Shape              Param #   \n",
            "=================================================================\n",
            "conv2d (Conv2D)              multiple                  896       \n",
            "_________________________________________________________________\n",
            "lambda (Lambda)              multiple                  0         \n",
            "_________________________________________________________________\n",
            "activation (Activation)      multiple                  0         \n",
            "_________________________________________________________________\n",
            "batch_normalization (BatchNo multiple                  128       \n",
            "_________________________________________________________________\n",
            "conv2d_1 (Conv2D)            multiple                  9248      \n",
            "_________________________________________________________________\n",
            "lambda_1 (Lambda)            multiple                  0         \n",
            "_________________________________________________________________\n",
            "activation_1 (Activation)    multiple                  0         \n",
            "_________________________________________________________________\n",
            "batch_normalization_1 (Batch multiple                  128       \n",
            "_________________________________________________________________\n",
            "conv2d_2 (Conv2D)            multiple                  18496     \n",
            "_________________________________________________________________\n",
            "lambda_2 (Lambda)            multiple                  0         \n",
            "_________________________________________________________________\n",
            "activation_2 (Activation)    multiple                  0         \n",
            "_________________________________________________________________\n",
            "batch_normalization_2 (Batch multiple                  256       \n",
            "_________________________________________________________________\n",
            "conv2d_3 (Conv2D)            multiple                  36928     \n",
            "_________________________________________________________________\n",
            "lambda_3 (Lambda)            multiple                  0         \n",
            "_________________________________________________________________\n",
            "activation_3 (Activation)    multiple                  0         \n",
            "_________________________________________________________________\n",
            "batch_normalization_3 (Batch multiple                  256       \n",
            "_________________________________________________________________\n",
            "flatten (Flatten)            multiple                  0         \n",
            "_________________________________________________________________\n",
            "dense (Dense)                multiple                  1606144   \n",
            "_________________________________________________________________\n",
            "dropout (Dropout)            multiple                  0         \n",
            "_________________________________________________________________\n",
            "batch_normalization_4 (Batch multiple                  2048      \n",
            "_________________________________________________________________\n",
            "dense_1 (Dense)              multiple                  5130      \n",
            "=================================================================\n",
            "Total params: 1,679,658\n",
            "Trainable params: 1,678,250\n",
            "Non-trainable params: 1,408\n",
            "_________________________________________________________________\n"
          ],
          "name": "stdout"
        }
      ]
    },
    {
      "cell_type": "markdown",
      "metadata": {
        "id": "7_5YtSB-s514",
        "colab_type": "text"
      },
      "source": [
        "Saving the model"
      ]
    },
    {
      "cell_type": "code",
      "metadata": {
        "id": "X6Iba3TAjcU1",
        "colab_type": "code",
        "colab": {}
      },
      "source": [
        "model.save(\"/content/drive/My Drive/ComputerVision/Image classification/cifar10_cnn.h5\")"
      ],
      "execution_count": 0,
      "outputs": []
    },
    {
      "cell_type": "markdown",
      "metadata": {
        "id": "knxTbTZ8s9pO",
        "colab_type": "text"
      },
      "source": [
        "Deleting model to be loaded later"
      ]
    },
    {
      "cell_type": "code",
      "metadata": {
        "id": "eyVGPD6JkM66",
        "colab_type": "code",
        "colab": {}
      },
      "source": [
        "del model"
      ],
      "execution_count": 0,
      "outputs": []
    },
    {
      "cell_type": "markdown",
      "metadata": {
        "id": "30UXFJbGtD-F",
        "colab_type": "text"
      },
      "source": [
        "Loading saved model"
      ]
    },
    {
      "cell_type": "code",
      "metadata": {
        "id": "G1qHtrJzj7nA",
        "colab_type": "code",
        "colab": {}
      },
      "source": [
        "from tensorflow import keras\n",
        "\n",
        "saved_model = keras.models.load_model('/content/drive/My Drive/ComputerVision/Image classification/cifar10_cnn.h5')"
      ],
      "execution_count": 0,
      "outputs": []
    },
    {
      "cell_type": "markdown",
      "metadata": {
        "id": "TicwkJ8JtG5S",
        "colab_type": "text"
      },
      "source": [
        "Predicting on the test set to analyze confusion matrix and f1 scores"
      ]
    },
    {
      "cell_type": "code",
      "metadata": {
        "id": "RZGTd5cOy0GV",
        "colab_type": "code",
        "outputId": "b7b205b7-4ee2-4066-dd78-b3bac8673d66",
        "colab": {
          "base_uri": "https://localhost:8080/",
          "height": 204
        }
      },
      "source": [
        "pred = saved_model.predict(X_test)\n",
        "pred[:5] "
      ],
      "execution_count": 28,
      "outputs": [
        {
          "output_type": "execute_result",
          "data": {
            "text/plain": [
              "array([[ 0.6225636 ,  0.32338855,  0.        ,  6.871658  ,  0.        ,\n",
              "         5.499221  ,  4.3128066 ,  0.        ,  0.        ,  0.        ],\n",
              "       [ 1.9715036 ,  9.124576  ,  0.        ,  0.        ,  0.        ,\n",
              "         0.        ,  0.        ,  0.        , 11.988169  ,  0.14353243],\n",
              "       [ 3.122646  ,  4.396226  ,  1.0907114 ,  1.9308321 ,  0.        ,\n",
              "         0.        ,  0.        ,  0.        ,  6.3881927 ,  0.33194733],\n",
              "       [ 6.4478035 ,  3.1872966 ,  1.0387517 ,  0.46368986,  0.        ,\n",
              "         0.        ,  0.        ,  0.        ,  8.195003  ,  2.6962302 ],\n",
              "       [ 0.        ,  0.5862502 ,  3.624225  ,  1.1721973 ,  5.371509  ,\n",
              "         0.        ,  7.9527307 ,  0.        ,  1.7151989 ,  0.        ]],\n",
              "      dtype=float32)"
            ]
          },
          "metadata": {
            "tags": []
          },
          "execution_count": 28
        }
      ]
    },
    {
      "cell_type": "code",
      "metadata": {
        "id": "UE3fbEVtzQ3n",
        "colab_type": "code",
        "colab": {
          "base_uri": "https://localhost:8080/",
          "height": 119
        },
        "outputId": "43675653-a6a5-44ed-9020-74dc5300e225"
      },
      "source": [
        "df_pred = pd.DataFrame(pred)\n",
        "df_pred = df_pred.apply(lambda x: x.idxmax(), axis=1)\n",
        "df_pred.head()"
      ],
      "execution_count": 29,
      "outputs": [
        {
          "output_type": "execute_result",
          "data": {
            "text/plain": [
              "0    3\n",
              "1    8\n",
              "2    8\n",
              "3    8\n",
              "4    6\n",
              "dtype: int64"
            ]
          },
          "metadata": {
            "tags": []
          },
          "execution_count": 29
        }
      ]
    },
    {
      "cell_type": "code",
      "metadata": {
        "id": "Aa1o3Lpa0meW",
        "colab_type": "code",
        "colab": {
          "base_uri": "https://localhost:8080/",
          "height": 187
        },
        "outputId": "adbcf9b6-dc84-4dce-cf8d-b41d7368f98b"
      },
      "source": [
        "from sklearn.metrics import confusion_matrix, f1_score, accuracy_score, classification_report\n",
        "\n",
        "confusion_matrix(y_true=test.labels, y_pred=df_pred)"
      ],
      "execution_count": 25,
      "outputs": [
        {
          "output_type": "execute_result",
          "data": {
            "text/plain": [
              "array([[835,  16,  26,  18,   8,   2,  11,   3,  58,  23],\n",
              "       [  5, 906,   2,   2,   0,   3,   5,   0,  18,  59],\n",
              "       [ 68,   9, 703,  36,  36,  33,  91,  10,   8,   6],\n",
              "       [ 30,  14,  70, 603,  43,  78, 109,  24,  17,  12],\n",
              "       [ 20,   3, 104,  34, 692,  13, 101,  22,  10,   1],\n",
              "       [ 13,   6,  66, 151,  46, 618,  68,  18,   9,   5],\n",
              "       [  6,   2,  43,  24,   7,   3, 905,   1,   5,   4],\n",
              "       [ 19,   4,  34,  39,  67,  28,  27, 766,   6,  10],\n",
              "       [ 47,  18,   5,   8,   5,   0,  13,   2, 881,  21],\n",
              "       [ 21,  78,   4,   6,   1,   0,   3,   6,  29, 852]])"
            ]
          },
          "metadata": {
            "tags": []
          },
          "execution_count": 25
        }
      ]
    },
    {
      "cell_type": "code",
      "metadata": {
        "id": "DSXR4S2UOBEg",
        "colab_type": "code",
        "colab": {
          "base_uri": "https://localhost:8080/",
          "height": 34
        },
        "outputId": "5aacf0d8-7e07-4c31-fda2-0856e50d9b01"
      },
      "source": [
        "accuracy_score(y_true=test.labels, y_pred=df_pred)"
      ],
      "execution_count": 26,
      "outputs": [
        {
          "output_type": "execute_result",
          "data": {
            "text/plain": [
              "0.7761"
            ]
          },
          "metadata": {
            "tags": []
          },
          "execution_count": 26
        }
      ]
    },
    {
      "cell_type": "code",
      "metadata": {
        "id": "kogSAAlL1m7e",
        "colab_type": "code",
        "colab": {
          "base_uri": "https://localhost:8080/",
          "height": 34
        },
        "outputId": "7003948c-0283-49db-c52a-3234f7beb5b0"
      },
      "source": [
        "f1_score(y_true=test.labels, y_pred=df_pred, average=\"weighted\")"
      ],
      "execution_count": 27,
      "outputs": [
        {
          "output_type": "execute_result",
          "data": {
            "text/plain": [
              "0.7744755203243452"
            ]
          },
          "metadata": {
            "tags": []
          },
          "execution_count": 27
        }
      ]
    },
    {
      "cell_type": "code",
      "metadata": {
        "id": "LL3miq9bbp-I",
        "colab_type": "code",
        "colab": {
          "base_uri": "https://localhost:8080/",
          "height": 306
        },
        "outputId": "4b451c22-c96d-464d-a811-d2890b843604"
      },
      "source": [
        "print(classification_report(test.labels, df_pred))"
      ],
      "execution_count": 30,
      "outputs": [
        {
          "output_type": "stream",
          "text": [
            "              precision    recall  f1-score   support\n",
            "\n",
            "           0       0.80      0.84      0.82      1000\n",
            "           1       0.87      0.90      0.88      1000\n",
            "           2       0.68      0.70      0.69      1000\n",
            "           3       0.66      0.60      0.63      1000\n",
            "           4       0.76      0.69      0.72      1000\n",
            "           5       0.78      0.61      0.68      1000\n",
            "           6       0.66      0.90      0.76      1000\n",
            "           7       0.88      0.77      0.82      1000\n",
            "           8       0.88      0.89      0.88      1000\n",
            "           9       0.84      0.87      0.86      1000\n",
            "\n",
            "    accuracy                           0.78     10000\n",
            "   macro avg       0.78      0.78      0.78     10000\n",
            "weighted avg       0.78      0.78      0.78     10000\n",
            "\n"
          ],
          "name": "stdout"
        }
      ]
    }
  ]
}